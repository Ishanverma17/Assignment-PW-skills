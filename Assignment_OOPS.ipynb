{
  "nbformat": 4,
  "nbformat_minor": 0,
  "metadata": {
    "colab": {
      "provenance": []
    },
    "kernelspec": {
      "name": "python3",
      "display_name": "Python 3"
    },
    "language_info": {
      "name": "python"
    }
  },
  "cells": [
    {
      "cell_type": "markdown",
      "source": [
        "1. What is Object-Oriented Programming (OOP)?\n",
        "\n",
        "Object-Oriented Programming is a programming paradigm that organizes code into objects, which combine data (attributes) and behavior (methods).\n",
        "It promotes reusability, modularity, and maintainability.\n",
        "\n",
        "2. What is a class in OOP?\n",
        "\n",
        "A class is a blueprint or template for creating objects.\n",
        "It defines the structure (attributes) and behavior (methods) that the objects will have.\n",
        "\n",
        "class Car:\n",
        "    def __init__(self, brand, color):\n",
        "        self.brand = brand\n",
        "        self.color = color\n",
        "\n",
        "3. What is an object in OOP?\n",
        "\n",
        "An object is an instance of a class — a real-world entity created from a class blueprint.\n",
        "\n",
        "my_car = Car(\"Toyota\", \"Red\")\n",
        "\n",
        "4. Difference between abstraction and encapsulation\n",
        "Concept\tMeaning\tExample\n",
        "Abstraction\tHiding complex implementation details and showing only the necessary parts\tUsing a drive() method without knowing how it works internally\n",
        "Encapsulation\tBinding data and methods into a single unit (class) and restricting direct access to data\tUsing private variables like self.__speed\n",
        "5. What are dunder methods in Python?\n",
        "\n",
        "Dunder (Double UNDERscore) methods are special methods with names like __init__, __str__, etc., used to define object behavior.\n",
        "\n",
        "Example:\n",
        "\n",
        "class Car:\n",
        "    def __init__(self, brand):\n",
        "        self.brand = brand\n",
        "\n",
        "    def __str__(self):\n",
        "        return f\"Car brand: {self.brand}\"\n",
        "\n",
        "6. Explain inheritance in OOP\n",
        "\n",
        "Inheritance allows a class (child/subclass) to acquire properties and methods from another class (parent/superclass).\n",
        "\n",
        "class Vehicle:\n",
        "    def move(self):\n",
        "        print(\"Moving\")\n",
        "\n",
        "class Car(Vehicle):\n",
        "    pass\n",
        "\n",
        "7. What is polymorphism in OOP?\n",
        "\n",
        "Polymorphism means same function name, different behavior depending on the object type.\n",
        "\n",
        "class Dog:\n",
        "    def sound(self): print(\"Bark\")\n",
        "\n",
        "class Cat:\n",
        "    def sound(self): print(\"Meow\")\n",
        "\n",
        "for animal in [Dog(), Cat()]:\n",
        "    animal.sound()\n",
        "\n",
        "8. How is encapsulation achieved in Python?\n",
        "\n",
        "By making attributes private (using __), and accessing them through getter and setter methods.\n",
        "\n",
        "class Account:\n",
        "    def __init__(self):\n",
        "        self.__balance = 0  # private\n",
        "\n",
        "    def set_balance(self, amount):\n",
        "        self.__balance = amount\n",
        "\n",
        "    def get_balance(self):\n",
        "        return self.__balance\n",
        "\n",
        "9. What is a constructor in Python?\n",
        "\n",
        "__init__() is the constructor — it initializes the object when created.\n",
        "\n",
        "class Person:\n",
        "    def __init__(self, name):\n",
        "        self.name = name\n",
        "\n",
        "10. What are class and static methods in Python?\n",
        "\n",
        "Class method (@classmethod): Works with class variables; takes cls as the first argument.\n",
        "\n",
        "Static method (@staticmethod): Doesn’t access cls or self; behaves like a regular function inside a class.\n",
        "\n",
        "class Example:\n",
        "    x = 10\n",
        "\n",
        "    @classmethod\n",
        "    def show(cls): print(cls.x)\n",
        "\n",
        "    @staticmethod\n",
        "    def greet(): print(\"Hello!\")\n",
        "\n",
        "11. What is method overloading in Python?\n",
        "\n",
        "Python does not support true method overloading, but you can achieve similar behavior using default arguments.\n",
        "\n",
        "def add(a, b=0, c=0):\n",
        "    return a + b + c\n",
        "\n",
        "12. What is method overriding in OOP?\n",
        "\n",
        "When a subclass provides a new implementation of a method from its parent class.\n",
        "\n",
        "class Animal:\n",
        "    def sound(self): print(\"Generic sound\")\n",
        "\n",
        "class Dog(Animal):\n",
        "    def sound(self): print(\"Bark\")\n",
        "\n",
        "13. What is a property decorator in Python?\n",
        "\n",
        "Used to access methods like attributes. It helps in encapsulation.\n",
        "\n",
        "class Student:\n",
        "    def __init__(self, marks):\n",
        "        self._marks = marks\n",
        "\n",
        "    @property\n",
        "    def marks(self):\n",
        "        return self._marks\n",
        "\n",
        "14. Why is polymorphism important in OOP?\n",
        "\n",
        "It allows flexibility and code reusability by enabling one interface to work with multiple object types.\n",
        "\n",
        "15. What is an abstract class in Python?\n",
        "\n",
        "A class that cannot be instantiated and may contain abstract methods (methods without implementation).\n",
        "\n",
        "from abc import ABC, abstractmethod\n",
        "\n",
        "class Shape(ABC):\n",
        "    @abstractmethod\n",
        "    def area(self):\n",
        "        pass\n",
        "\n",
        "16. Advantages of OOP\n",
        "\n",
        "Reusability\n",
        "\n",
        "Modularity\n",
        "\n",
        "Maintainability\n",
        "\n",
        "Scalability\n",
        "\n",
        "Abstraction and Encapsulation\n",
        "\n",
        "17. What is multiple inheritance in Python?\n",
        "\n",
        "A class inheriting from more than one parent class.\n",
        "\n",
        "class A: pass\n",
        "class B: pass\n",
        "class C(A, B): pass\n",
        "\n",
        "18. Difference between class variable and instance variable\n",
        "Type\tShared?\tDefined where?\n",
        "Class variable\tShared among all objects\tInside class, outside methods\n",
        "Instance variable\tUnique to each object\tInside __init__()\n",
        "19. Purpose of __str__ and __repr__ methods\n",
        "\n",
        "__str__: For user-friendly output (print()).\n",
        "\n",
        "__repr__: For developer/debug representation.\n",
        "\n",
        "20. Significance of super() function in Python\n",
        "\n",
        "Used to call methods from the parent class inside a subclass — often used with inheritance and constructors.\n",
        "\n",
        "class Child(Parent):\n",
        "    def __init__(self):\n",
        "        super().__init__()\n",
        "\n",
        "21. Significance of the __del__ method\n",
        "\n",
        "It’s a destructor — called automatically when an object is deleted or goes out of scope.\n",
        "\n",
        "def __del__(self):\n",
        "    print(\"Object destroyed\")\n",
        "\n",
        "22. Difference between @staticmethod and @classmethod\n",
        "Decorator\tFirst Argument\tAccess to Class Data?\tUse Case\n",
        "@staticmethod\tNone\t❌\tUtility functions\n",
        "@classmethod\tcls\t✅\tFactory methods or class-level operations\n",
        "23. How does polymorphism work in Python with inheritance?\n",
        "\n",
        "Child classes can override parent methods, and Python decides at runtime which version to call.\n",
        "\n",
        "class Bird:\n",
        "    def fly(self): print(\"Flying\")\n",
        "\n",
        "class Penguin(Bird):\n",
        "    def fly(self): print(\"Cannot fly\")\n",
        "\n",
        "b = Bird()\n",
        "p = Penguin()\n",
        "\n",
        "for i in (b, p):\n",
        "    i.fly()\n",
        "\n",
        "24. What is method chaining in Python OOP?\n",
        "\n",
        "Calling multiple methods in a single line by returning self from each method.\n",
        "\n",
        "class Number:\n",
        "    def __init__(self, n): self.n = n\n",
        "    def add(self, x): self.n += x; return self\n",
        "    def multiply(self, y): self.n *= y; return self\n",
        "\n",
        "print(Number(5).add(3).multiply(2).n)  # 16\n",
        "\n",
        "25. Purpose of the __call__ method\n",
        "\n",
        "Allows an object to be called like a function.\n",
        "\n",
        "class Adder:\n",
        "    def __init__(self, n): self.n = n\n",
        "    def __call__(self, x): return self.n + x\n",
        "\n",
        "add5 = Adder(5)\n",
        "print(add5(10))  # 15"
      ],
      "metadata": {
        "id": "9Wt9gf29Im1_"
      }
    },
    {
      "cell_type": "code",
      "execution_count": 4,
      "metadata": {
        "id": "Pc9yeKX4IfNP"
      },
      "outputs": [],
      "source": [
        "#1. Parent & Child Class (Method Overriding)\n",
        "class Animal:\n",
        "    def speak(self):\n",
        "        print(\"Animal makes a sound\")\n",
        "\n",
        "class Dog(Animal):\n",
        "    def speak(self):\n",
        "        print(\"Bark!\")"
      ]
    },
    {
      "cell_type": "code",
      "source": [
        "d = Dog()\n",
        "d.speak()"
      ],
      "metadata": {
        "colab": {
          "base_uri": "https://localhost:8080/"
        },
        "id": "eaJRB2SMJTzy",
        "outputId": "47c3baff-12f8-423d-bc05-4240c8ae0278"
      },
      "execution_count": 6,
      "outputs": [
        {
          "output_type": "stream",
          "name": "stdout",
          "text": [
            "Bark!\n"
          ]
        }
      ]
    },
    {
      "cell_type": "code",
      "source": [
        "# 2. Abstract Class (Shape, Circle, Rectangle)\n",
        "from abc import ABC, abstractmethod\n",
        "\n",
        "class Shape(ABC):\n",
        "    @abstractmethod\n",
        "    def area(self):\n",
        "        pass\n",
        "\n",
        "class Circle(Shape):\n",
        "    def __init__(self, radius):\n",
        "        self.radius = radius\n",
        "\n",
        "    def area(self):\n",
        "        return 3.14 * self.radius ** 2\n",
        "\n",
        "class Rectangle(Shape):\n",
        "    def __init__(self, length, width):\n",
        "        self.length = length\n",
        "        self.width = width\n",
        "\n",
        "    def area(self):\n",
        "        return self.length * self.width\n",
        "\n",
        "# Example\n",
        "print(Circle(5).area())\n",
        "print(Rectangle(4, 6).area())"
      ],
      "metadata": {
        "colab": {
          "base_uri": "https://localhost:8080/"
        },
        "id": "qhEGCCS5Jh_t",
        "outputId": "ffe3b75d-d159-4056-955c-014815b43fbb"
      },
      "execution_count": 7,
      "outputs": [
        {
          "output_type": "stream",
          "name": "stdout",
          "text": [
            "78.5\n",
            "24\n"
          ]
        }
      ]
    },
    {
      "cell_type": "code",
      "source": [
        "# 3. Multi-Level Inheritance (Vehicle → Car → ElectricCar)\n",
        "class Vehicle:\n",
        "    def __init__(self, type):\n",
        "        self.type = type\n",
        "\n",
        "class Car(Vehicle):\n",
        "    def __init__(self, type, brand):\n",
        "        super().__init__(type)\n",
        "        self.brand = brand\n",
        "\n",
        "class ElectricCar(Car):\n",
        "    def __init__(self, type, brand, battery):\n",
        "        super().__init__(type, brand)\n",
        "        self.battery = battery\n",
        "\n",
        "# Example\n",
        "tesla = ElectricCar(\"Car\", \"Tesla\", \"85 kWh\")\n",
        "print(tesla.type, tesla.brand, tesla.battery)\n"
      ],
      "metadata": {
        "colab": {
          "base_uri": "https://localhost:8080/"
        },
        "id": "mcTLrxMEJ24l",
        "outputId": "40e5b606-1236-41df-aab9-8bdd800c5e68"
      },
      "execution_count": 8,
      "outputs": [
        {
          "output_type": "stream",
          "name": "stdout",
          "text": [
            "Car Tesla 85 kWh\n"
          ]
        }
      ]
    },
    {
      "cell_type": "code",
      "source": [
        "# 4. Polymorphism (Bird Example)\n",
        "class Bird:\n",
        "    def fly(self):\n",
        "        print(\"Birds can fly\")\n",
        "\n",
        "class Sparrow(Bird):\n",
        "    def fly(self):\n",
        "        print(\"Sparrow flies high\")\n",
        "\n",
        "class Penguin(Bird):\n",
        "    def fly(self):\n",
        "        print(\"Penguin cannot fly\")\n",
        "\n",
        "for bird in [Sparrow(), Penguin()]:\n",
        "    bird.fly()\n"
      ],
      "metadata": {
        "colab": {
          "base_uri": "https://localhost:8080/"
        },
        "id": "CbIuI2TsJ-6u",
        "outputId": "58e0eb75-dc5f-49e9-dbbd-7c047f0a3b15"
      },
      "execution_count": 9,
      "outputs": [
        {
          "output_type": "stream",
          "name": "stdout",
          "text": [
            "Sparrow flies high\n",
            "Penguin cannot fly\n"
          ]
        }
      ]
    },
    {
      "cell_type": "code",
      "source": [
        "# 5. Encapsulation (BankAccount Example)\n",
        "class BankAccount:\n",
        "    def __init__(self):\n",
        "        self.__balance = 0\n",
        "\n",
        "    def deposit(self, amount):\n",
        "        self.__balance += amount\n",
        "\n",
        "    def withdraw(self, amount):\n",
        "        if amount <= self.__balance:\n",
        "            self.__balance -= amount\n",
        "        else:\n",
        "            print(\"Insufficient funds\")\n",
        "\n",
        "    def get_balance(self):\n",
        "        return self.__balance\n"
      ],
      "metadata": {
        "id": "kStzE80kKJG9"
      },
      "execution_count": 12,
      "outputs": []
    },
    {
      "cell_type": "code",
      "source": [
        "acc = BankAccount()\n",
        "acc.deposit(1000)\n",
        "acc.withdraw(300)\n",
        "print(acc.get_balance())"
      ],
      "metadata": {
        "colab": {
          "base_uri": "https://localhost:8080/"
        },
        "id": "aIwrB8N-KTt4",
        "outputId": "62285585-ce74-4431-f76a-6d70fc6303ad"
      },
      "execution_count": 13,
      "outputs": [
        {
          "output_type": "stream",
          "name": "stdout",
          "text": [
            "700\n"
          ]
        }
      ]
    },
    {
      "cell_type": "code",
      "source": [
        "# 6. Runtime Polymorphism (Instrument Example)\n",
        "class Instrument:\n",
        "    def play(self):\n",
        "        print(\"Playing an instrument\")\n",
        "\n",
        "class Guitar(Instrument):\n",
        "    def play(self):\n",
        "        print(\"Playing the guitar\")\n",
        "\n",
        "class Piano(Instrument):\n",
        "    def play(self):\n",
        "        print(\"Playing the piano\")\n",
        "\n",
        "for inst in [Guitar(), Piano()]:\n",
        "    inst.play()\n"
      ],
      "metadata": {
        "colab": {
          "base_uri": "https://localhost:8080/"
        },
        "id": "MRq2K_9uKX4c",
        "outputId": "e3383b22-62a8-4c68-cacb-7974dcc7d154"
      },
      "execution_count": 14,
      "outputs": [
        {
          "output_type": "stream",
          "name": "stdout",
          "text": [
            "Playing the guitar\n",
            "Playing the piano\n"
          ]
        }
      ]
    },
    {
      "cell_type": "code",
      "source": [
        "#7.Class & Static Methods\n",
        "class MathOperations:\n",
        "    @classmethod\n",
        "    def add_numbers(cls, a, b):\n",
        "        return a + b\n",
        "\n",
        "    @staticmethod\n",
        "    def subtract_numbers(a, b):\n",
        "        return a - b\n",
        "\n",
        "print(MathOperations.add_numbers(10, 5))\n",
        "print(MathOperations.subtract_numbers(10, 5))\n"
      ],
      "metadata": {
        "colab": {
          "base_uri": "https://localhost:8080/"
        },
        "id": "zpod9TayKlgz",
        "outputId": "8dc8bbd9-8f19-4395-f5e2-10313f9cbc75"
      },
      "execution_count": 15,
      "outputs": [
        {
          "output_type": "stream",
          "name": "stdout",
          "text": [
            "15\n",
            "5\n"
          ]
        }
      ]
    },
    {
      "cell_type": "code",
      "source": [
        "# 8. Class Method Counting Objects\n",
        "class Person:\n",
        "    count = 0\n",
        "\n",
        "    def __init__(self, name):\n",
        "        self.name = name\n",
        "        Person.count += 1\n",
        "\n",
        "    @classmethod\n",
        "    def total_persons(cls):\n",
        "        return cls.count\n",
        "\n",
        "p1 = Person(\"Alice\")\n",
        "p2 = Person(\"Bob\")\n",
        "print(Person.total_persons())\n"
      ],
      "metadata": {
        "colab": {
          "base_uri": "https://localhost:8080/"
        },
        "id": "JzmL5yT9KtEj",
        "outputId": "ae4ff925-1db4-4bb3-b3b1-51b36fe64272"
      },
      "execution_count": 16,
      "outputs": [
        {
          "output_type": "stream",
          "name": "stdout",
          "text": [
            "2\n"
          ]
        }
      ]
    },
    {
      "cell_type": "code",
      "source": [
        "# 9.  Fraction with __str__\n",
        "class Fraction:\n",
        "    def __init__(self, numerator, denominator):\n",
        "        self.numerator = numerator\n",
        "        self.denominator = denominator\n",
        "\n",
        "    def __str__(self):\n",
        "        return f\"{self.numerator}/{self.denominator}\"\n",
        "\n",
        "print(Fraction(3, 4))\n"
      ],
      "metadata": {
        "colab": {
          "base_uri": "https://localhost:8080/"
        },
        "id": "NFoZSi5mK3n-",
        "outputId": "5b13d189-573d-413c-a24e-84ab6edb5a7e"
      },
      "execution_count": 17,
      "outputs": [
        {
          "output_type": "stream",
          "name": "stdout",
          "text": [
            "3/4\n"
          ]
        }
      ]
    },
    {
      "cell_type": "code",
      "source": [
        "#10. Operator Overloading (Vector Addition)\n",
        "class Vector:\n",
        "    def __init__(self, x, y):\n",
        "        self.x = x\n",
        "        self.y = y\n",
        "\n",
        "    def __add__(self, other):\n",
        "        return Vector(self.x + other.x, self.y + other.y)\n",
        "\n",
        "    def __str__(self):\n",
        "        return f\"({self.x}, {self.y})\"\n",
        "\n",
        "v1 = Vector(2, 3)\n",
        "v2 = Vector(4, 5)\n",
        "print(v1 + v2)\n"
      ],
      "metadata": {
        "colab": {
          "base_uri": "https://localhost:8080/"
        },
        "id": "lL6BJxhVLAam",
        "outputId": "18cf59e7-d011-45a7-f1fb-891ce4b64cc1"
      },
      "execution_count": 18,
      "outputs": [
        {
          "output_type": "stream",
          "name": "stdout",
          "text": [
            "(6, 8)\n"
          ]
        }
      ]
    },
    {
      "cell_type": "code",
      "source": [
        "# 11. Person Class with greet()\n",
        "class Person:\n",
        "    def __init__(self, name, age):\n",
        "        self.name = name\n",
        "        self.age = age\n",
        "\n",
        "    def greet(self):\n",
        "        print(f\"Hello, my name is {self.name} and I am {self.age} years old.\")\n",
        "\n",
        "Person(\"John\", 25).greet()\n"
      ],
      "metadata": {
        "colab": {
          "base_uri": "https://localhost:8080/"
        },
        "id": "ymLfyeDULG7v",
        "outputId": "eafbe7ef-e5f7-4d98-d62a-420d0f5ac4ed"
      },
      "execution_count": 19,
      "outputs": [
        {
          "output_type": "stream",
          "name": "stdout",
          "text": [
            "Hello, my name is John and I am 25 years old.\n"
          ]
        }
      ]
    },
    {
      "cell_type": "code",
      "source": [
        "#12. Student Average Grade\n",
        "class Student:\n",
        "    def __init__(self, name, grades):\n",
        "        self.name = name\n",
        "        self.grades = grades\n",
        "\n",
        "    def average_grade(self):\n",
        "        return sum(self.grades) / len(self.grades)\n",
        "\n",
        "s = Student(\"Ishan\", [90, 85, 88])\n",
        "print(s.average_grade())\n"
      ],
      "metadata": {
        "colab": {
          "base_uri": "https://localhost:8080/"
        },
        "id": "_4fKo5zdLN5L",
        "outputId": "d1d73a00-35b2-471b-9614-e62060cda603"
      },
      "execution_count": 20,
      "outputs": [
        {
          "output_type": "stream",
          "name": "stdout",
          "text": [
            "87.66666666666667\n"
          ]
        }
      ]
    },
    {
      "cell_type": "code",
      "source": [
        "# 13. Rectangle with set_dimensions() & area()\n",
        "class Rectangle:\n",
        "    def set_dimensions(self, length, width):\n",
        "        self.length = length\n",
        "        self.width = width\n",
        "\n",
        "    def area(self):\n",
        "        return self.length * self.width\n",
        "\n",
        "r = Rectangle()\n",
        "r.set_dimensions(5, 10)\n",
        "print(r.area())\n"
      ],
      "metadata": {
        "colab": {
          "base_uri": "https://localhost:8080/"
        },
        "id": "I3EtxlocLX1u",
        "outputId": "16de17ca-6bd6-4994-99c5-713c5afc733c"
      },
      "execution_count": 21,
      "outputs": [
        {
          "output_type": "stream",
          "name": "stdout",
          "text": [
            "50\n"
          ]
        }
      ]
    },
    {
      "cell_type": "code",
      "source": [
        "# 14. Employee & Manager (Inheritance + Bonus)\n",
        "class Employee:\n",
        "    def __init__(self, hours, rate):\n",
        "        self.hours = hours\n",
        "        self.rate = rate\n",
        "\n",
        "    def calculate_salary(self):\n",
        "        return self.hours * self.rate\n",
        "\n",
        "class Manager(Employee):\n",
        "    def __init__(self, hours, rate, bonus):\n",
        "        super().__init__(hours, rate)\n",
        "        self.bonus = bonus\n",
        "\n",
        "    def calculate_salary(self):\n",
        "        return super().calculate_salary() + self.bonus\n",
        "\n",
        "m = Manager(40, 50, 1000)\n",
        "print(m.calculate_salary())\n"
      ],
      "metadata": {
        "colab": {
          "base_uri": "https://localhost:8080/"
        },
        "id": "8yTJTpLgLhUx",
        "outputId": "e6be444c-c3d3-4bef-d3d1-042af1dcbd19"
      },
      "execution_count": 22,
      "outputs": [
        {
          "output_type": "stream",
          "name": "stdout",
          "text": [
            "3000\n"
          ]
        }
      ]
    },
    {
      "cell_type": "code",
      "source": [
        "# 15 . Product Total Price\n",
        "class Product:\n",
        "    def __init__(self, name, price, quantity):\n",
        "        self.name = name\n",
        "        self.price = price\n",
        "        self.quantity = quantity\n",
        "\n",
        "    def total_price(self):\n",
        "        return self.price * self.quantity\n",
        "\n",
        "p = Product(\"Laptop\", 50000, 2)\n",
        "print(p.total_price())\n"
      ],
      "metadata": {
        "colab": {
          "base_uri": "https://localhost:8080/"
        },
        "id": "WCz7y3K4LqW-",
        "outputId": "8aaa3632-77b2-48b9-dfb9-b8d577f13a21"
      },
      "execution_count": 23,
      "outputs": [
        {
          "output_type": "stream",
          "name": "stdout",
          "text": [
            "100000\n"
          ]
        }
      ]
    },
    {
      "cell_type": "code",
      "source": [
        "# 16.Abstract Class Animal (Cow & Sheep)\n",
        "from abc import ABC, abstractmethod\n",
        "\n",
        "class Animal(ABC):\n",
        "    @abstractmethod\n",
        "    def sound(self):\n",
        "        pass\n",
        "\n",
        "class Cow(Animal):\n",
        "    def sound(self):\n",
        "        print(\"Moo\")\n",
        "\n",
        "class Sheep(Animal):\n",
        "    def sound(self):\n",
        "        print(\"Baa\")\n",
        "\n",
        "for a in [Cow(), Sheep()]:\n",
        "    a.sound()\n"
      ],
      "metadata": {
        "colab": {
          "base_uri": "https://localhost:8080/"
        },
        "id": "aUQhx_e3L4TJ",
        "outputId": "acbb9c74-94c3-4d6e-b614-d7e16f527d60"
      },
      "execution_count": 24,
      "outputs": [
        {
          "output_type": "stream",
          "name": "stdout",
          "text": [
            "Moo\n",
            "Baa\n"
          ]
        }
      ]
    },
    {
      "cell_type": "code",
      "source": [
        "# 17. Book Class\n",
        "class Book:\n",
        "    def __init__(self, title, author, year_published):\n",
        "        self.title = title\n",
        "        self.author = author\n",
        "        self.year_published = year_published\n",
        "\n",
        "    def get_book_info(self):\n",
        "        return f\"{self.title} by {self.author} ({self.year_published})\"\n",
        "\n",
        "print(Book(\"1984\", \"George Orwell\", 1949).get_book_info())\n",
        "\n"
      ],
      "metadata": {
        "colab": {
          "base_uri": "https://localhost:8080/"
        },
        "id": "lvqOG73DMCVF",
        "outputId": "5384861a-682f-40ef-9ae6-d94c37de14cd"
      },
      "execution_count": 25,
      "outputs": [
        {
          "output_type": "stream",
          "name": "stdout",
          "text": [
            "1984 by George Orwell (1949)\n"
          ]
        }
      ]
    },
    {
      "cell_type": "code",
      "source": [
        "# 18. House → Mansion (Inheritance Example)\n",
        "class House:\n",
        "    def __init__(self, address, price):\n",
        "        self.address = address\n",
        "        self.price = price\n",
        "\n",
        "class Mansion(House):\n",
        "    def __init__(self, address, price, number_of_rooms):\n",
        "        super().__init__(address, price)\n",
        "        self.number_of_rooms = number_of_rooms\n",
        "\n",
        "m = Mansion(\"123 Luxury St\", 20000000, 10)\n",
        "print(m.address, m.price, m.number_of_rooms)\n"
      ],
      "metadata": {
        "colab": {
          "base_uri": "https://localhost:8080/"
        },
        "id": "_VRruZNzMKKt",
        "outputId": "919ee465-f695-4df0-c125-5dc048487b01"
      },
      "execution_count": 26,
      "outputs": [
        {
          "output_type": "stream",
          "name": "stdout",
          "text": [
            "123 Luxury St 20000000 10\n"
          ]
        }
      ]
    },
    {
      "cell_type": "code",
      "source": [],
      "metadata": {
        "id": "sKfikKJCMRsS"
      },
      "execution_count": null,
      "outputs": []
    }
  ]
}